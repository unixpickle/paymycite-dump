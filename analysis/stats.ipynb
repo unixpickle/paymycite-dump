{
 "cells": [
  {
   "cell_type": "code",
   "execution_count": null,
   "metadata": {},
   "outputs": [],
   "source": [
    "import pandas\n",
    "from collections import Counter\n",
    "import matplotlib.pyplot as plt"
   ]
  },
  {
   "cell_type": "code",
   "execution_count": null,
   "metadata": {},
   "outputs": [],
   "source": [
    "data = pandas.read_csv('../details.csv')"
   ]
  },
  {
   "cell_type": "code",
   "execution_count": null,
   "metadata": {},
   "outputs": [],
   "source": [
    "# Histogram the years of tickets\n",
    "years = [int(x.split('/')[2]) for x in data['Date']]\n",
    "counts = Counter(years)\n",
    "xs = sorted(set(years))\n",
    "plt.bar(xs, [counts[x] for x in xs])\n",
    "plt.xlabel('year')\n",
    "plt.ylabel('number of citations')\n",
    "plt.show()"
   ]
  },
  {
   "cell_type": "code",
   "execution_count": null,
   "metadata": {},
   "outputs": [],
   "source": [
    "# Show the most and least frequent dates for tickets.\n",
    "counts = Counter('/'.join(x.split('/')[:2]) for x in data['Date'])\n",
    "count_years = sorted((count, year) for year, count in counts.items())\n",
    "print('Least frequent dates:')\n",
    "for cy in count_years[:5]:\n",
    "    print(*cy)\n",
    "print('Most frequent dates:')\n",
    "for cy in count_years[-5:][::-1]:\n",
    "    print(*cy)"
   ]
  },
  {
   "cell_type": "code",
   "execution_count": null,
   "metadata": {},
   "outputs": [],
   "source": [
    "# Show the most frequent car makes\n",
    "counts = Counter(data['Make'][pandas.notnull(data['Make'])])\n",
    "most_freq = sorted((make, count) for count, make in counts.items())[::-1][:20]\n",
    "plt.figure(figsize=(10, 5))\n",
    "plt.bar(*list(zip(*most_freq))[::-1])\n",
    "plt.xticks(rotation='vertical')\n",
    "plt.show()"
   ]
  },
  {
   "cell_type": "code",
   "execution_count": null,
   "metadata": {},
   "outputs": [],
   "source": [
    "# Show the most frequent car colors\n",
    "def canonical_color(c):\n",
    "    c = c.lower().strip()\n",
    "    m = {\n",
    "        'white': ['wht', 'whi', 'wt', 'whit', 'wht', 'why'],\n",
    "        'black': ['blk', 'bla', 'bl', 'blac'],\n",
    "        'gray': ['gry', 'grey', 'gra'],\n",
    "        'green': ['grn'],\n",
    "        'blue': ['blu'],\n",
    "        'silver': ['sil', 'silv', 'slvr', 'slv'],\n",
    "        'gold': ['gld', 'gol'],\n",
    "        'brown': ['brn', 'bro'],\n",
    "        'yellow': ['yel', 'yell'],\n",
    "    }\n",
    "    for k, v in m.items():\n",
    "        if c in v:\n",
    "            return k\n",
    "    return c\n",
    "counts = Counter(canonical_color(x) for x in data['Color'][pandas.notnull(data['Color'])])\n",
    "most_freq = sorted((make, count) for count, make in counts.items())[::-1][:20]\n",
    "plt.figure(figsize=(10, 5))\n",
    "plt.bar(*list(zip(*most_freq))[::-1])\n",
    "plt.xticks(rotation='vertical')\n",
    "plt.show()"
   ]
  },
  {
   "cell_type": "code",
   "execution_count": null,
   "metadata": {},
   "outputs": [],
   "source": [
    "# Show the most common violations.\n",
    "has_desc = pandas.notnull(data['Violation.Description'])\n",
    "violations = [x.lower() for x in list(data[has_desc]['Violation.Description'])]\n",
    "count_descs = [(count, desc) for desc, count in Counter(violations).items()]\n",
    "for x in sorted(count_descs)[::-1]:\n",
    "    print(*x)\n"
   ]
  },
  {
   "cell_type": "code",
   "execution_count": null,
   "metadata": {},
   "outputs": [],
   "source": [
    "# Show the most common violations\n",
    "# **specifically for Fords.**\n",
    "has_desc = pandas.notnull(data['Violation.Description'])\n",
    "is_ford = data['Make'] == 'Ford'\n",
    "violations = [x.lower() for x in list(data[has_desc & is_ford]['Violation.Description'])]\n",
    "count_descs = [(count, desc) for desc, count in Counter(violations).items()]\n",
    "for x in sorted(count_descs)[::-1]:\n",
    "    print(*x)\n"
   ]
  }
 ],
 "metadata": {
  "interpreter": {
   "hash": "767d51c1340bd893661ea55ea3124f6de3c7a262a8b4abca0554b478b1e2ff90"
  },
  "kernelspec": {
   "display_name": "Python 3.9.7 64-bit",
   "language": "python",
   "name": "python3"
  },
  "language_info": {
   "codemirror_mode": {
    "name": "ipython",
    "version": 3
   },
   "file_extension": ".py",
   "mimetype": "text/x-python",
   "name": "python",
   "nbconvert_exporter": "python",
   "pygments_lexer": "ipython3",
   "version": "3.9.7"
  },
  "orig_nbformat": 4
 },
 "nbformat": 4,
 "nbformat_minor": 2
}
